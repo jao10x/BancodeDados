{
  "nbformat": 4,
  "nbformat_minor": 0,
  "metadata": {
    "colab": {
      "provenance": [],
      "include_colab_link": true
    },
    "kernelspec": {
      "name": "python3",
      "display_name": "Python 3"
    },
    "language_info": {
      "name": "python"
    }
  },
  "cells": [
    {
      "cell_type": "markdown",
      "metadata": {
        "id": "view-in-github",
        "colab_type": "text"
      },
      "source": [
        "<a href=\"https://colab.research.google.com/github/jao10x/BancodeDados/blob/main/atividadedoviado.ipynb\" target=\"_parent\"><img src=\"https://colab.research.google.com/assets/colab-badge.svg\" alt=\"Open In Colab\"/></a>"
      ]
    },
    {
      "cell_type": "markdown",
      "source": [
        "1 Faça um programa que receba dois valores do tipo inteiro fornecidos pelo usuário, some eles e apresente o resultado."
      ],
      "metadata": {
        "id": "gB6cRxTDM0sY"
      }
    },
    {
      "cell_type": "code",
      "execution_count": null,
      "metadata": {
        "colab": {
          "base_uri": "https://localhost:8080/"
        },
        "id": "Qa2d24eQMpNL",
        "outputId": "2b4c506b-c9cd-40dc-8c17-0f91970b440b"
      },
      "outputs": [
        {
          "output_type": "stream",
          "name": "stdout",
          "text": [
            "digite o primeiro valor78\n",
            "digite o segundo valor56\n",
            "134\n"
          ]
        }
      ],
      "source": [
        "def soma(valor1,valor2):\n",
        "  return valor1 + valor2\n",
        "\n",
        "valor1 = int(input(\"digite o primeiro valor\"))\n",
        "valor2 = int(input(\"digite o segundo valor\"))\n",
        "\n",
        "total = soma(valor1,valor2)\n",
        "print(total)"
      ]
    },
    {
      "cell_type": "markdown",
      "source": [
        "2 Faça um programa que receba 4 valores do tipo inteiro do usuário, some eles e subtraia por uma variável com o valor 10 atribuído internamente (o usuário não vai fornecer o valor 10) e apresente o resultado.\n"
      ],
      "metadata": {
        "id": "--gSUxM-OBF9"
      }
    },
    {
      "cell_type": "code",
      "source": [
        "def somaSubtracao(valor1,valor2,valor3,valor4,numero):\n",
        "    soma = (valor1 + valor2 + valor3 + valor4 - numero)\n",
        "    print(\"O valor final subtraido por 10 é\",soma)\n",
        "\n",
        "valor1 = int(input(\"digite o primeiro valor:\"\"\"))\n",
        "valor2 = int(input(\"digite o segundo valor:\"\"\"))\n",
        "valor3 = int(input(\"digite o terceiro valor:\"\"\"))\n",
        "valor4 = int(input(\"digite o quarto valor:\"\"\"))\n",
        "\n",
        "numero = 10\n",
        "valorfinal = somaSubtracao(valor1,valor2,valor3,valor4,numero)\n",
        "(valorfinal)"
      ],
      "metadata": {
        "colab": {
          "base_uri": "https://localhost:8080/"
        },
        "id": "n6uP7gUVOF1A",
        "outputId": "1a5e41d4-5767-4ccc-effc-a3bb6250a354"
      },
      "execution_count": null,
      "outputs": [
        {
          "output_type": "stream",
          "name": "stdout",
          "text": [
            "digite o primeiro valor:30\n",
            "digite o segundo valor:30\n",
            "digite o terceiro valor:30\n",
            "digite o quarto valor:30\n",
            "O valor final subtraido por 10 é 110\n"
          ]
        }
      ]
    },
    {
      "cell_type": "markdown",
      "source": [
        "3 Faça um programa que apresente na tela o resultado das 4 operações básicas (soma (+) , subtração (-) , divisão (/) , multiplicação (*) ) de 2 números quaisquer fornecidos pelo usuário."
      ],
      "metadata": {
        "id": "m59DqQavQQ3C"
      }
    },
    {
      "cell_type": "code",
      "source": [
        "def operacoes (valor1,valor2):\n",
        "    soma = (valor1 + valor2)\n",
        "    subtracao = (valor1 - valor2)\n",
        "    divisao =  (valor1 / valor2)\n",
        "    multiplicacao = (valor1 * valor2)\n",
        "    print(f\"a soma é igual a:{soma}1\\n a subtraçao é igual a:{subtracao}1\\n a divisao é igual a {divisao}1\\n a multiplicaçao é igual a {multiplicacao}\")\n",
        "\n",
        "valor1 = int(input(\"digite o primeiro valor:\"\"\"))\n",
        "valor2 = int(input(\"digite o segundo valor:\"\"\"))\n",
        "\n",
        "resultado = operacoes (valor1,valor2)\n",
        "print(resultado)"
      ],
      "metadata": {
        "colab": {
          "base_uri": "https://localhost:8080/"
        },
        "id": "73k_qgYuQWJ4",
        "outputId": "2157d48f-24e3-42d1-c488-a0eb25edc30a"
      },
      "execution_count": null,
      "outputs": [
        {
          "output_type": "stream",
          "name": "stdout",
          "text": [
            "digite o primeiro valor:78\n",
            "digite o segundo valor:90\n",
            "1\n",
            "a soma é igual a:1681\n",
            " a subtraçao é igual a:-121\n",
            " a divisao é igual a 0.86666666666666671\n",
            " a multiplicaçao é igual a 7020\n",
            "None\n"
          ]
        }
      ]
    },
    {
      "cell_type": "markdown",
      "source": [
        "4 Faça um programa que mostre na tela a tabuada do número que o usuário digitou. Ex:\n",
        "    2x1=2\n",
        "    2x2=4\n"
      ],
      "metadata": {
        "id": "jutbhmSKTkc6"
      }
    },
    {
      "cell_type": "code",
      "source": [
        "def tabuada(numero):\n",
        "    for i in range(1, 11):\n",
        "        resultado = numero * i\n",
        "        print(f\"{numero} x {i} = {resultado}\")\n",
        "\n",
        "numero = int(input(\"Digite um número para ver a tabuada: \"))\n",
        "tabuada(numero)\n"
      ],
      "metadata": {
        "colab": {
          "base_uri": "https://localhost:8080/"
        },
        "id": "Zl8Z5ou2WT7D",
        "outputId": "352b986b-e7f7-4931-c815-427f2dbb0324"
      },
      "execution_count": null,
      "outputs": [
        {
          "output_type": "stream",
          "name": "stdout",
          "text": [
            "Digite um número para ver a tabuada: 7\n",
            "7 x 1 = 7\n",
            "7 x 2 = 14\n",
            "7 x 3 = 21\n",
            "7 x 4 = 28\n",
            "7 x 5 = 35\n",
            "7 x 6 = 42\n",
            "7 x 7 = 49\n",
            "7 x 8 = 56\n",
            "7 x 9 = 63\n",
            "7 x 10 = 70\n"
          ]
        }
      ]
    },
    {
      "cell_type": "markdown",
      "source": [
        "5 Faça um programa que receba duas notas, faça a média entre elas e apresente o resultado.\n"
      ],
      "metadata": {
        "id": "MLWAyLhJYGdu"
      }
    },
    {
      "cell_type": "code",
      "source": [
        "def resultadofinal(nota1,nota2):\n",
        "    mediafinal = nota1+nota2 / 2\n",
        "    print(f\"média final: {mediafinal}\")\n",
        "\n",
        "nota1 = float\n",
        " (input(\"digite a primeira nota\"))\n",
        "nota2 = float(input(\"digite a segunda nota\"))\n",
        "\n",
        "media = resultadofinal(nota1,nota2)\n"
      ],
      "metadata": {
        "colab": {
          "base_uri": "https://localhost:8080/"
        },
        "id": "tFLox0LqYr27",
        "outputId": "f51c84fb-3187-4b92-f4b7-ffe93db67bad"
      },
      "execution_count": null,
      "outputs": [
        {
          "output_type": "stream",
          "name": "stdout",
          "text": [
            "digite a primeira nota67\n",
            "digite a segunda nota89\n",
            "média final: 111.5\n"
          ]
        }
      ]
    },
    {
      "cell_type": "markdown",
      "source": [
        "6 Faça um programa que receba a base e a altura de um triangulo, calcule e apresente área dele.\n",
        "Fórmula: area = (base * altura) /2;\n"
      ],
      "metadata": {
        "id": "3SSd4OercPuD"
      }
    },
    {
      "cell_type": "code",
      "source": [
        "def area(base,altura):\n",
        "   return (base * altura) /2\n",
        "\n",
        "base = float(input(\"digite o valor da base:\"))\n",
        "altura = float(input(\"digite o valor da altura:\"))\n",
        "\n",
        "areafinal = area(base,altura)\n",
        "print(f\"a área final é: {areafinal}\")"
      ],
      "metadata": {
        "colab": {
          "base_uri": "https://localhost:8080/"
        },
        "id": "MKNnNyBacR6L",
        "outputId": "2cbd6def-0df4-4f36-a5f2-1daf1e875414"
      },
      "execution_count": null,
      "outputs": [
        {
          "output_type": "stream",
          "name": "stdout",
          "text": [
            "digite o valor da base:89\n",
            "digite o valor da altura:98\n",
            "a área final é: 4361.0\n"
          ]
        }
      ]
    },
    {
      "cell_type": "markdown",
      "source": [
        "7 Faça um programa que leia em graus Centígrados e apresente em graus Fahrenheit.\n",
        "Fórmula: varF = (9 * var + 160) / 5.\n"
      ],
      "metadata": {
        "id": "PXQBlUT_fPuC"
      }
    },
    {
      "cell_type": "code",
      "source": [
        "def fah(celcius):\n",
        "  return (9 * celcius + 160) / 5\n",
        "\n",
        "celcius = float(input(\"digite os graus em celcius:\"))\n",
        "\n",
        "temperaturafinal = fah(celcius)\n",
        "print(f\"celcius convertidos para Fahrenheit é: {temperaturafinal} \")"
      ],
      "metadata": {
        "colab": {
          "base_uri": "https://localhost:8080/"
        },
        "id": "z0Zli_q5fTms",
        "outputId": "59a71e9f-a89b-4940-c89a-714c9fb5d323"
      },
      "execution_count": null,
      "outputs": [
        {
          "output_type": "stream",
          "name": "stdout",
          "text": [
            "digite os graus em celcius:789\n",
            "celcius convertidos para Fahrenheit é: 1452.2 \n"
          ]
        }
      ]
    }
  ]
}